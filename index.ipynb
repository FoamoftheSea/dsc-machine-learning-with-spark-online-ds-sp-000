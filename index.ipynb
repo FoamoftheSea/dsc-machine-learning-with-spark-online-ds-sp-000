{
 "cells": [
  {
   "cell_type": "markdown",
   "metadata": {},
   "source": [
    "# Machine Learning with Spark\n",
    "\n",
    "## Introduction\n",
    "\n",
    "You've now explored how to perform operations on Spark RDDs for simple MapReduce tasks. Luckily, there are far more advanced use cases for Spark, and many of them are found in the `ml` library, which we are going to explore in this lesson.\n",
    "\n",
    "\n",
    "## Objectives\n",
    "\n",
    "You will be able to: \n",
    "\n",
    "- Load and manipulate data using Spark DataFrames  \n",
    "- Define estimators and transformers in Spark ML \n",
    "- Create a Spark ML pipeline that transforms data and runs over a grid of hyperparameters \n",
    "\n",
    "\n",
    "\n",
    "## A Tale of Two Libraries\n",
    "\n",
    "If you look at the PySpark documentation, you'll notice that there are two different libraries for machine learning, [mllib](https://spark.apache.org/docs/latest/api/python/pyspark.mllib.html) and [ml](https://spark.apache.org/docs/latest/api/python/pyspark.ml.html). These libraries are extremely similar to one another, the only difference being that the `mllib` library is built upon the RDDs you just practiced using; whereas, the `ml` library is built on higher level Spark DataFrames, which has methods and attributes similar to pandas. Spark has stated that in the future, it is going to devote more effort to the `ml` library and that `mllib` will become deprecated. It's important to note that these libraries are much younger than pandas and scikit-learn and there are not as many features present in either.\n",
    "\n",
    "## Spark DataFrames\n",
    "\n",
    "In the previous lessons, you were introduced to SparkContext as the primary way to connect with a Spark Application. Here, we will be using SparkSession, which is from the [sql](https://spark.apache.org/docs/latest/api/python/pyspark.sql.html) component of PySpark. The SparkSession acts the same way as SparkContext; it is a bridge between Python and the Spark Application. It's just built on top of the Spark SQL API, a higher-level API than RDDs. In fact, a SparkContext object is spun up around which the SparkSession object is wrapped. Let's go through the process of manipulating some data here. For this example, we're going to be using the [Forest Fire dataset](https://archive.ics.uci.edu/ml/datasets/Forest+Fires) from UCI, which contains data about the area burned by wildfires in the Northeast region of Portugal in relation to numerous other factors.\n",
    "\n",
    "To begin with, let's create a SparkSession so that we can spin up our spark application. "
   ]
  },
  {
   "cell_type": "code",
   "execution_count": 1,
   "metadata": {},
   "outputs": [],
   "source": [
    "# importing the necessary libraries\n",
    "from pyspark import SparkContext\n",
    "from pyspark.sql import SparkSession\n",
    "# sc = SparkContext('local[*]')\n",
    "# spark = SparkSession(sc)"
   ]
  },
  {
   "cell_type": "markdown",
   "metadata": {},
   "source": [
    "To create a SparkSession: "
   ]
  },
  {
   "cell_type": "code",
   "execution_count": 2,
   "metadata": {},
   "outputs": [],
   "source": [
    "spark = SparkSession.builder.master('local').getOrCreate()"
   ]
  },
  {
   "cell_type": "markdown",
   "metadata": {},
   "source": [
    "Now, we'll load the data into a PySpark DataFrame: "
   ]
  },
  {
   "cell_type": "code",
   "execution_count": 3,
   "metadata": {},
   "outputs": [
    {
     "data": {
      "text/plain": [
       "pyspark.sql.dataframe.DataFrame"
      ]
     },
     "execution_count": 3,
     "metadata": {},
     "output_type": "execute_result"
    }
   ],
   "source": [
    "## reading in pyspark df\n",
    "spark_df = spark.read.csv('./forestfires.csv', header='true', inferSchema='true')\n",
    "\n",
    "## observing the datatype of df\n",
    "type(spark_df)"
   ]
  },
  {
   "cell_type": "markdown",
   "metadata": {},
   "source": [
    "You'll notice that some of the methods are extremely similar or the same as those found within Pandas."
   ]
  },
  {
   "cell_type": "code",
   "execution_count": 6,
   "metadata": {},
   "outputs": [
    {
     "data": {
      "text/plain": [
       "[Row(X=7, Y=5, month='mar', day='fri', FFMC=86.2, DMC=26.2, DC=94.3, ISI=5.1, temp=8.2, RH=51, wind=6.7, rain=0.0, area=0.0),\n",
       " Row(X=7, Y=4, month='oct', day='tue', FFMC=90.6, DMC=35.4, DC=669.1, ISI=6.7, temp=18.0, RH=33, wind=0.9, rain=0.0, area=0.0),\n",
       " Row(X=7, Y=4, month='oct', day='sat', FFMC=90.6, DMC=43.7, DC=686.9, ISI=6.7, temp=14.6, RH=33, wind=1.3, rain=0.0, area=0.0),\n",
       " Row(X=8, Y=6, month='mar', day='fri', FFMC=91.7, DMC=33.3, DC=77.5, ISI=9.0, temp=8.3, RH=97, wind=4.0, rain=0.2, area=0.0),\n",
       " Row(X=8, Y=6, month='mar', day='sun', FFMC=89.3, DMC=51.3, DC=102.2, ISI=9.6, temp=11.4, RH=99, wind=1.8, rain=0.0, area=0.0)]"
      ]
     },
     "execution_count": 6,
     "metadata": {},
     "output_type": "execute_result"
    }
   ],
   "source": [
    "spark_df.head(5)"
   ]
  },
  {
   "cell_type": "code",
   "execution_count": 5,
   "metadata": {},
   "outputs": [
    {
     "data": {
      "text/plain": [
       "['X',\n",
       " 'Y',\n",
       " 'month',\n",
       " 'day',\n",
       " 'FFMC',\n",
       " 'DMC',\n",
       " 'DC',\n",
       " 'ISI',\n",
       " 'temp',\n",
       " 'RH',\n",
       " 'wind',\n",
       " 'rain',\n",
       " 'area']"
      ]
     },
     "execution_count": 5,
     "metadata": {},
     "output_type": "execute_result"
    }
   ],
   "source": [
    "spark_df.columns"
   ]
  },
  {
   "cell_type": "markdown",
   "metadata": {},
   "source": [
    "Selecting multiple columns is similar as well: "
   ]
  },
  {
   "cell_type": "code",
   "execution_count": 12,
   "metadata": {},
   "outputs": [
    {
     "data": {
      "text/plain": [
       "DataFrame[month: string, day: string, rain: double]"
      ]
     },
     "execution_count": 12,
     "metadata": {},
     "output_type": "execute_result"
    }
   ],
   "source": [
    "spark_df[['month','day','rain']]"
   ]
  },
  {
   "cell_type": "code",
   "execution_count": 13,
   "metadata": {},
   "outputs": [
    {
     "data": {
      "text/plain": [
       "[Row(month='mar', day='fri', rain=0.0),\n",
       " Row(month='oct', day='tue', rain=0.0),\n",
       " Row(month='oct', day='sat', rain=0.0),\n",
       " Row(month='mar', day='fri', rain=0.2),\n",
       " Row(month='mar', day='sun', rain=0.0)]"
      ]
     },
     "execution_count": 13,
     "metadata": {},
     "output_type": "execute_result"
    }
   ],
   "source": [
    "spark_df[['month','day','rain']].head(5)"
   ]
  },
  {
   "cell_type": "markdown",
   "metadata": {},
   "source": [
    "But selecting one column is different. If you want to maintain the methods of a spark DataFrame, you should use the `.select()` method. If you want to just select the column, you can use the same method you would use in pandas (this is primarily what you would use if you're attempting to create a boolean mask). "
   ]
  },
  {
   "cell_type": "code",
   "execution_count": 14,
   "metadata": {
    "scrolled": true
   },
   "outputs": [],
   "source": [
    "d = spark_df.select('rain')"
   ]
  },
  {
   "cell_type": "code",
   "execution_count": 15,
   "metadata": {},
   "outputs": [
    {
     "data": {
      "text/plain": [
       "Column<b'rain'>"
      ]
     },
     "execution_count": 15,
     "metadata": {},
     "output_type": "execute_result"
    }
   ],
   "source": [
    "spark_df['rain']"
   ]
  },
  {
   "cell_type": "markdown",
   "metadata": {},
   "source": [
    "Let's take a look at all of our data types in this dataframe"
   ]
  },
  {
   "cell_type": "code",
   "execution_count": 16,
   "metadata": {},
   "outputs": [
    {
     "data": {
      "text/plain": [
       "[('X', 'int'),\n",
       " ('Y', 'int'),\n",
       " ('month', 'string'),\n",
       " ('day', 'string'),\n",
       " ('FFMC', 'double'),\n",
       " ('DMC', 'double'),\n",
       " ('DC', 'double'),\n",
       " ('ISI', 'double'),\n",
       " ('temp', 'double'),\n",
       " ('RH', 'int'),\n",
       " ('wind', 'double'),\n",
       " ('rain', 'double'),\n",
       " ('area', 'double')]"
      ]
     },
     "execution_count": 16,
     "metadata": {},
     "output_type": "execute_result"
    }
   ],
   "source": [
    "spark_df.dtypes"
   ]
  },
  {
   "cell_type": "code",
   "execution_count": 18,
   "metadata": {},
   "outputs": [
    {
     "data": {
      "text/plain": [
       "DataFrame[summary: string, X: string, Y: string, month: string, day: string, FFMC: string, DMC: string, DC: string, ISI: string, temp: string, RH: string, wind: string, rain: string, area: string]"
      ]
     },
     "execution_count": 18,
     "metadata": {},
     "output_type": "execute_result"
    }
   ],
   "source": [
    "spark_df.summary()"
   ]
  },
  {
   "cell_type": "markdown",
   "metadata": {},
   "source": [
    "## Aggregations with our DataFrame"
   ]
  },
  {
   "cell_type": "markdown",
   "metadata": {},
   "source": [
    "Let's investigate to see if there is any correlation between what month it is and the area of fire: "
   ]
  },
  {
   "cell_type": "code",
   "execution_count": 19,
   "metadata": {},
   "outputs": [
    {
     "data": {
      "text/plain": [
       "DataFrame[month: string, avg(area): double]"
      ]
     },
     "execution_count": 19,
     "metadata": {},
     "output_type": "execute_result"
    }
   ],
   "source": [
    "spark_df_months = spark_df.groupBy('month').agg({'area': 'mean'})\n",
    "spark_df_months"
   ]
  },
  {
   "cell_type": "markdown",
   "metadata": {},
   "source": [
    "Notice how the grouped DataFrame is not returned when you call the aggregation method. Remember, this is still Spark! The transformations and actions are kept separate so that it is easier to manage large quantities of data. You can perform the transformation by calling `.collect()`: "
   ]
  },
  {
   "cell_type": "code",
   "execution_count": 20,
   "metadata": {
    "scrolled": true
   },
   "outputs": [
    {
     "data": {
      "text/plain": [
       "[Row(month='jun', avg(area)=5.841176470588234),\n",
       " Row(month='aug', avg(area)=12.489076086956521),\n",
       " Row(month='may', avg(area)=19.24),\n",
       " Row(month='feb', avg(area)=6.275),\n",
       " Row(month='sep', avg(area)=17.942616279069753),\n",
       " Row(month='mar', avg(area)=4.356666666666667),\n",
       " Row(month='oct', avg(area)=6.638),\n",
       " Row(month='jul', avg(area)=14.3696875),\n",
       " Row(month='nov', avg(area)=0.0),\n",
       " Row(month='apr', avg(area)=8.891111111111112),\n",
       " Row(month='dec', avg(area)=13.33),\n",
       " Row(month='jan', avg(area)=0.0)]"
      ]
     },
     "execution_count": 20,
     "metadata": {},
     "output_type": "execute_result"
    }
   ],
   "source": [
    "spark_df_months.collect()"
   ]
  },
  {
   "cell_type": "markdown",
   "metadata": {},
   "source": [
    "As you can see, there seem to be larger area fires during what would be considered the summer months in Portugal. On your own, practice more aggregations and manipulations that you might be able to perform on this dataset. "
   ]
  },
  {
   "cell_type": "code",
   "execution_count": 24,
   "metadata": {},
   "outputs": [
    {
     "data": {
      "text/plain": [
       "0.09784410734168436"
      ]
     },
     "execution_count": 24,
     "metadata": {},
     "output_type": "execute_result"
    }
   ],
   "source": [
    "spark_df.stat.corr('temp', 'area')"
   ]
  },
  {
   "cell_type": "code",
   "execution_count": 27,
   "metadata": {},
   "outputs": [
    {
     "data": {
      "text/plain": [
       "[Row(temp=8.2),\n",
       " Row(temp=18.0),\n",
       " Row(temp=14.6),\n",
       " Row(temp=8.3),\n",
       " Row(temp=11.4),\n",
       " Row(temp=22.2),\n",
       " Row(temp=24.1),\n",
       " Row(temp=8.0),\n",
       " Row(temp=13.1),\n",
       " Row(temp=22.8),\n",
       " Row(temp=17.8),\n",
       " Row(temp=19.3),\n",
       " Row(temp=17.0),\n",
       " Row(temp=21.3),\n",
       " Row(temp=26.4),\n",
       " Row(temp=22.9),\n",
       " Row(temp=15.1),\n",
       " Row(temp=16.7),\n",
       " Row(temp=15.9),\n",
       " Row(temp=9.3),\n",
       " Row(temp=18.3),\n",
       " Row(temp=19.1),\n",
       " Row(temp=21.0),\n",
       " Row(temp=19.5),\n",
       " Row(temp=23.7),\n",
       " Row(temp=16.3),\n",
       " Row(temp=19.0),\n",
       " Row(temp=19.4),\n",
       " Row(temp=30.2),\n",
       " Row(temp=22.8),\n",
       " Row(temp=25.4),\n",
       " Row(temp=11.2),\n",
       " Row(temp=20.6),\n",
       " Row(temp=17.7),\n",
       " Row(temp=21.2),\n",
       " Row(temp=18.2),\n",
       " Row(temp=21.7),\n",
       " Row(temp=11.3),\n",
       " Row(temp=17.8),\n",
       " Row(temp=14.1),\n",
       " Row(temp=23.3),\n",
       " Row(temp=18.4),\n",
       " Row(temp=16.6),\n",
       " Row(temp=19.6),\n",
       " Row(temp=12.9),\n",
       " Row(temp=25.9),\n",
       " Row(temp=14.7),\n",
       " Row(temp=23.0),\n",
       " Row(temp=11.8),\n",
       " Row(temp=11.0),\n",
       " Row(temp=20.8),\n",
       " Row(temp=21.5),\n",
       " Row(temp=20.4),\n",
       " Row(temp=20.4),\n",
       " Row(temp=17.6),\n",
       " Row(temp=27.7),\n",
       " Row(temp=17.8),\n",
       " Row(temp=13.8),\n",
       " Row(temp=13.9),\n",
       " Row(temp=12.3),\n",
       " Row(temp=11.5),\n",
       " Row(temp=5.5),\n",
       " Row(temp=18.8),\n",
       " Row(temp=20.8),\n",
       " Row(temp=23.1),\n",
       " Row(temp=18.6),\n",
       " Row(temp=23.0),\n",
       " Row(temp=19.6),\n",
       " Row(temp=19.6),\n",
       " Row(temp=17.2),\n",
       " Row(temp=15.8),\n",
       " Row(temp=17.7),\n",
       " Row(temp=15.6),\n",
       " Row(temp=17.3),\n",
       " Row(temp=27.6),\n",
       " Row(temp=6.7),\n",
       " Row(temp=15.7),\n",
       " Row(temp=8.3),\n",
       " Row(temp=14.7),\n",
       " Row(temp=21.6),\n",
       " Row(temp=19.5),\n",
       " Row(temp=17.9),\n",
       " Row(temp=18.6),\n",
       " Row(temp=16.6),\n",
       " Row(temp=20.2),\n",
       " Row(temp=21.5),\n",
       " Row(temp=25.4),\n",
       " Row(temp=22.4),\n",
       " Row(temp=25.3),\n",
       " Row(temp=17.4),\n",
       " Row(temp=14.7),\n",
       " Row(temp=17.4),\n",
       " Row(temp=20.8),\n",
       " Row(temp=18.2),\n",
       " Row(temp=23.4),\n",
       " Row(temp=17.8),\n",
       " Row(temp=12.7),\n",
       " Row(temp=17.4),\n",
       " Row(temp=11.6),\n",
       " Row(temp=19.8),\n",
       " Row(temp=19.8),\n",
       " Row(temp=14.4),\n",
       " Row(temp=20.1),\n",
       " Row(temp=24.1),\n",
       " Row(temp=5.3),\n",
       " Row(temp=12.7),\n",
       " Row(temp=18.2),\n",
       " Row(temp=21.4),\n",
       " Row(temp=20.3),\n",
       " Row(temp=17.4),\n",
       " Row(temp=13.7),\n",
       " Row(temp=18.8),\n",
       " Row(temp=22.8),\n",
       " Row(temp=18.9),\n",
       " Row(temp=15.8),\n",
       " Row(temp=15.5),\n",
       " Row(temp=11.6),\n",
       " Row(temp=15.2),\n",
       " Row(temp=10.6),\n",
       " Row(temp=19.6),\n",
       " Row(temp=10.3),\n",
       " Row(temp=17.1),\n",
       " Row(temp=22.5),\n",
       " Row(temp=17.9),\n",
       " Row(temp=19.8),\n",
       " Row(temp=20.6),\n",
       " Row(temp=9.0),\n",
       " Row(temp=17.2),\n",
       " Row(temp=15.9),\n",
       " Row(temp=15.4),\n",
       " Row(temp=15.4),\n",
       " Row(temp=14.0),\n",
       " Row(temp=10.6),\n",
       " Row(temp=17.6),\n",
       " Row(temp=14.9),\n",
       " Row(temp=17.6),\n",
       " Row(temp=17.2),\n",
       " Row(temp=15.6),\n",
       " Row(temp=18.0),\n",
       " Row(temp=21.7),\n",
       " Row(temp=21.9),\n",
       " Row(temp=23.3),\n",
       " Row(temp=21.2),\n",
       " Row(temp=16.6),\n",
       " Row(temp=23.8),\n",
       " Row(temp=27.4),\n",
       " Row(temp=13.2),\n",
       " Row(temp=24.2),\n",
       " Row(temp=17.4),\n",
       " Row(temp=23.7),\n",
       " Row(temp=23.2),\n",
       " Row(temp=24.8),\n",
       " Row(temp=24.6),\n",
       " Row(temp=20.1),\n",
       " Row(temp=29.6),\n",
       " Row(temp=16.4),\n",
       " Row(temp=28.6),\n",
       " Row(temp=18.4),\n",
       " Row(temp=20.5),\n",
       " Row(temp=19.0),\n",
       " Row(temp=16.1),\n",
       " Row(temp=20.3),\n",
       " Row(temp=15.2),\n",
       " Row(temp=17.8),\n",
       " Row(temp=17.8),\n",
       " Row(temp=5.3),\n",
       " Row(temp=16.6),\n",
       " Row(temp=23.4),\n",
       " Row(temp=14.6),\n",
       " Row(temp=20.7),\n",
       " Row(temp=21.9),\n",
       " Row(temp=17.4),\n",
       " Row(temp=20.1),\n",
       " Row(temp=17.7),\n",
       " Row(temp=14.2),\n",
       " Row(temp=20.3),\n",
       " Row(temp=5.8),\n",
       " Row(temp=19.2),\n",
       " Row(temp=18.3),\n",
       " Row(temp=14.4),\n",
       " Row(temp=23.9),\n",
       " Row(temp=19.1),\n",
       " Row(temp=12.4),\n",
       " Row(temp=16.8),\n",
       " Row(temp=20.8),\n",
       " Row(temp=17.6),\n",
       " Row(temp=11.5),\n",
       " Row(temp=21.0),\n",
       " Row(temp=13.3),\n",
       " Row(temp=11.5),\n",
       " Row(temp=11.7),\n",
       " Row(temp=24.2),\n",
       " Row(temp=24.6),\n",
       " Row(temp=24.3),\n",
       " Row(temp=24.6),\n",
       " Row(temp=23.5),\n",
       " Row(temp=5.8),\n",
       " Row(temp=21.5),\n",
       " Row(temp=13.9),\n",
       " Row(temp=22.6),\n",
       " Row(temp=21.6),\n",
       " Row(temp=12.4),\n",
       " Row(temp=8.8),\n",
       " Row(temp=20.2),\n",
       " Row(temp=15.1),\n",
       " Row(temp=22.1),\n",
       " Row(temp=22.9),\n",
       " Row(temp=20.7),\n",
       " Row(temp=19.6),\n",
       " Row(temp=23.2),\n",
       " Row(temp=18.4),\n",
       " Row(temp=5.1),\n",
       " Row(temp=20.1),\n",
       " Row(temp=11.0),\n",
       " Row(temp=17.0),\n",
       " Row(temp=17.0),\n",
       " Row(temp=16.9),\n",
       " Row(temp=12.4),\n",
       " Row(temp=19.4),\n",
       " Row(temp=15.2),\n",
       " Row(temp=16.2),\n",
       " Row(temp=18.6),\n",
       " Row(temp=11.0),\n",
       " Row(temp=13.4),\n",
       " Row(temp=15.4),\n",
       " Row(temp=22.9),\n",
       " Row(temp=16.1),\n",
       " Row(temp=20.1),\n",
       " Row(temp=28.3),\n",
       " Row(temp=16.4),\n",
       " Row(temp=26.4),\n",
       " Row(temp=27.8),\n",
       " Row(temp=18.7),\n",
       " Row(temp=24.3),\n",
       " Row(temp=17.7),\n",
       " Row(temp=19.6),\n",
       " Row(temp=18.2),\n",
       " Row(temp=18.8),\n",
       " Row(temp=25.1),\n",
       " Row(temp=13.4),\n",
       " Row(temp=15.2),\n",
       " Row(temp=16.7),\n",
       " Row(temp=15.4),\n",
       " Row(temp=21.9),\n",
       " Row(temp=22.4),\n",
       " Row(temp=26.8),\n",
       " Row(temp=25.7),\n",
       " Row(temp=20.7),\n",
       " Row(temp=28.7),\n",
       " Row(temp=21.7),\n",
       " Row(temp=26.8),\n",
       " Row(temp=24.0),\n",
       " Row(temp=22.1),\n",
       " Row(temp=21.4),\n",
       " Row(temp=18.9),\n",
       " Row(temp=22.3),\n",
       " Row(temp=23.9),\n",
       " Row(temp=21.4),\n",
       " Row(temp=20.6),\n",
       " Row(temp=23.7),\n",
       " Row(temp=28.3),\n",
       " Row(temp=11.2),\n",
       " Row(temp=21.4),\n",
       " Row(temp=19.3),\n",
       " Row(temp=21.8),\n",
       " Row(temp=22.1),\n",
       " Row(temp=19.4),\n",
       " Row(temp=23.7),\n",
       " Row(temp=21.0),\n",
       " Row(temp=19.1),\n",
       " Row(temp=21.8),\n",
       " Row(temp=20.1),\n",
       " Row(temp=20.2),\n",
       " Row(temp=4.8),\n",
       " Row(temp=5.1),\n",
       " Row(temp=5.1),\n",
       " Row(temp=4.6),\n",
       " Row(temp=4.6),\n",
       " Row(temp=4.6),\n",
       " Row(temp=4.6),\n",
       " Row(temp=2.2),\n",
       " Row(temp=5.1),\n",
       " Row(temp=4.2),\n",
       " Row(temp=8.8),\n",
       " Row(temp=7.5),\n",
       " Row(temp=23.4),\n",
       " Row(temp=12.6),\n",
       " Row(temp=22.1),\n",
       " Row(temp=24.2),\n",
       " Row(temp=24.3),\n",
       " Row(temp=18.7),\n",
       " Row(temp=25.3),\n",
       " Row(temp=22.9),\n",
       " Row(temp=26.9),\n",
       " Row(temp=17.1),\n",
       " Row(temp=22.2),\n",
       " Row(temp=14.3),\n",
       " Row(temp=15.4),\n",
       " Row(temp=19.6),\n",
       " Row(temp=10.6),\n",
       " Row(temp=20.7),\n",
       " Row(temp=19.1),\n",
       " Row(temp=19.2),\n",
       " Row(temp=19.2),\n",
       " Row(temp=11.3),\n",
       " Row(temp=19.0),\n",
       " Row(temp=17.1),\n",
       " Row(temp=23.8),\n",
       " Row(temp=16.0),\n",
       " Row(temp=24.9),\n",
       " Row(temp=25.3),\n",
       " Row(temp=24.8),\n",
       " Row(temp=12.2),\n",
       " Row(temp=24.3),\n",
       " Row(temp=19.7),\n",
       " Row(temp=18.5),\n",
       " Row(temp=18.6),\n",
       " Row(temp=19.2),\n",
       " Row(temp=21.6),\n",
       " Row(temp=21.6),\n",
       " Row(temp=18.9),\n",
       " Row(temp=16.8),\n",
       " Row(temp=16.8),\n",
       " Row(temp=12.9),\n",
       " Row(temp=13.7),\n",
       " Row(temp=24.2),\n",
       " Row(temp=24.1),\n",
       " Row(temp=21.2),\n",
       " Row(temp=19.7),\n",
       " Row(temp=23.5),\n",
       " Row(temp=24.2),\n",
       " Row(temp=21.5),\n",
       " Row(temp=17.1),\n",
       " Row(temp=18.1),\n",
       " Row(temp=18.0),\n",
       " Row(temp=9.8),\n",
       " Row(temp=19.3),\n",
       " Row(temp=23.0),\n",
       " Row(temp=22.7),\n",
       " Row(temp=20.4),\n",
       " Row(temp=19.3),\n",
       " Row(temp=15.7),\n",
       " Row(temp=20.6),\n",
       " Row(temp=15.9),\n",
       " Row(temp=12.2),\n",
       " Row(temp=16.8),\n",
       " Row(temp=21.3),\n",
       " Row(temp=10.1),\n",
       " Row(temp=17.4),\n",
       " Row(temp=12.8),\n",
       " Row(temp=10.1),\n",
       " Row(temp=15.4),\n",
       " Row(temp=20.6),\n",
       " Row(temp=19.8),\n",
       " Row(temp=18.7),\n",
       " Row(temp=20.8),\n",
       " Row(temp=20.8),\n",
       " Row(temp=15.9),\n",
       " Row(temp=19.7),\n",
       " Row(temp=21.1),\n",
       " Row(temp=18.4),\n",
       " Row(temp=17.3),\n",
       " Row(temp=15.2),\n",
       " Row(temp=15.9),\n",
       " Row(temp=21.1),\n",
       " Row(temp=19.6),\n",
       " Row(temp=15.9),\n",
       " Row(temp=16.4),\n",
       " Row(temp=16.8),\n",
       " Row(temp=13.8),\n",
       " Row(temp=13.8),\n",
       " Row(temp=14.2),\n",
       " Row(temp=10.4),\n",
       " Row(temp=20.3),\n",
       " Row(temp=10.3),\n",
       " Row(temp=15.4),\n",
       " Row(temp=21.1),\n",
       " Row(temp=21.9),\n",
       " Row(temp=8.7),\n",
       " Row(temp=5.2),\n",
       " Row(temp=19.3),\n",
       " Row(temp=16.2),\n",
       " Row(temp=28.2),\n",
       " Row(temp=20.5),\n",
       " Row(temp=21.3),\n",
       " Row(temp=20.9),\n",
       " Row(temp=20.6),\n",
       " Row(temp=11.6),\n",
       " Row(temp=23.3),\n",
       " Row(temp=23.3),\n",
       " Row(temp=7.5),\n",
       " Row(temp=20.7),\n",
       " Row(temp=21.9),\n",
       " Row(temp=15.2),\n",
       " Row(temp=5.3),\n",
       " Row(temp=10.1),\n",
       " Row(temp=20.4),\n",
       " Row(temp=24.3),\n",
       " Row(temp=25.9),\n",
       " Row(temp=28.0),\n",
       " Row(temp=28.0),\n",
       " Row(temp=22.8),\n",
       " Row(temp=25.0),\n",
       " Row(temp=21.3),\n",
       " Row(temp=21.8),\n",
       " Row(temp=27.9),\n",
       " Row(temp=17.0),\n",
       " Row(temp=14.2),\n",
       " Row(temp=19.9),\n",
       " Row(temp=23.4),\n",
       " Row(temp=14.7),\n",
       " Row(temp=8.2),\n",
       " Row(temp=22.8),\n",
       " Row(temp=26.4),\n",
       " Row(temp=24.1),\n",
       " Row(temp=27.5),\n",
       " Row(temp=26.3),\n",
       " Row(temp=13.8),\n",
       " Row(temp=24.9),\n",
       " Row(temp=24.8),\n",
       " Row(temp=26.2),\n",
       " Row(temp=30.8),\n",
       " Row(temp=29.3),\n",
       " Row(temp=22.3),\n",
       " Row(temp=26.9),\n",
       " Row(temp=20.4),\n",
       " Row(temp=20.4),\n",
       " Row(temp=27.9),\n",
       " Row(temp=26.2),\n",
       " Row(temp=24.6),\n",
       " Row(temp=19.4),\n",
       " Row(temp=23.3),\n",
       " Row(temp=23.9),\n",
       " Row(temp=20.9),\n",
       " Row(temp=22.2),\n",
       " Row(temp=23.8),\n",
       " Row(temp=26.8),\n",
       " Row(temp=14.2),\n",
       " Row(temp=23.6),\n",
       " Row(temp=19.1),\n",
       " Row(temp=16.2),\n",
       " Row(temp=25.5),\n",
       " Row(temp=10.9),\n",
       " Row(temp=14.8),\n",
       " Row(temp=16.2),\n",
       " Row(temp=17.3),\n",
       " Row(temp=19.1),\n",
       " Row(temp=8.9),\n",
       " Row(temp=10.5),\n",
       " Row(temp=19.3),\n",
       " Row(temp=23.4),\n",
       " Row(temp=11.8),\n",
       " Row(temp=17.7),\n",
       " Row(temp=17.4),\n",
       " Row(temp=16.8),\n",
       " Row(temp=17.9),\n",
       " Row(temp=16.6),\n",
       " Row(temp=19.9),\n",
       " Row(temp=18.9),\n",
       " Row(temp=15.5),\n",
       " Row(temp=18.9),\n",
       " Row(temp=18.9),\n",
       " Row(temp=14.5),\n",
       " Row(temp=4.6),\n",
       " Row(temp=5.1),\n",
       " Row(temp=4.6),\n",
       " Row(temp=10.2),\n",
       " Row(temp=11.2),\n",
       " Row(temp=13.3),\n",
       " Row(temp=13.7),\n",
       " Row(temp=17.6),\n",
       " Row(temp=18.0),\n",
       " Row(temp=14.3),\n",
       " Row(temp=24.5),\n",
       " Row(temp=26.4),\n",
       " Row(temp=22.7),\n",
       " Row(temp=27.2),\n",
       " Row(temp=26.1),\n",
       " Row(temp=18.2),\n",
       " Row(temp=22.6),\n",
       " Row(temp=30.2),\n",
       " Row(temp=30.2),\n",
       " Row(temp=23.4),\n",
       " Row(temp=31.0),\n",
       " Row(temp=33.1),\n",
       " Row(temp=30.6),\n",
       " Row(temp=24.1),\n",
       " Row(temp=26.4),\n",
       " Row(temp=19.4),\n",
       " Row(temp=20.6),\n",
       " Row(temp=28.7),\n",
       " Row(temp=32.4),\n",
       " Row(temp=32.4),\n",
       " Row(temp=27.5),\n",
       " Row(temp=30.8),\n",
       " Row(temp=23.9),\n",
       " Row(temp=32.6),\n",
       " Row(temp=32.3),\n",
       " Row(temp=33.3),\n",
       " Row(temp=27.3),\n",
       " Row(temp=21.6),\n",
       " Row(temp=21.6),\n",
       " Row(temp=20.7),\n",
       " Row(temp=29.2),\n",
       " Row(temp=28.9),\n",
       " Row(temp=26.7),\n",
       " Row(temp=18.5),\n",
       " Row(temp=25.9),\n",
       " Row(temp=25.9),\n",
       " Row(temp=21.1),\n",
       " Row(temp=18.2),\n",
       " Row(temp=27.8),\n",
       " Row(temp=27.8),\n",
       " Row(temp=21.9),\n",
       " Row(temp=21.2),\n",
       " Row(temp=25.6),\n",
       " Row(temp=11.8)]"
      ]
     },
     "execution_count": 27,
     "metadata": {},
     "output_type": "execute_result"
    }
   ],
   "source": [
    "temp = spark_df.select('temp').collect()\n",
    "temp"
   ]
  },
  {
   "cell_type": "code",
   "execution_count": 32,
   "metadata": {},
   "outputs": [
    {
     "data": {
      "text/plain": [
       "517"
      ]
     },
     "execution_count": 32,
     "metadata": {},
     "output_type": "execute_result"
    }
   ],
   "source": [
    "# Finding number of rows\n",
    "len(temp)"
   ]
  },
  {
   "cell_type": "code",
   "execution_count": 35,
   "metadata": {},
   "outputs": [],
   "source": [
    "import pandas as pd"
   ]
  },
  {
   "cell_type": "code",
   "execution_count": 38,
   "metadata": {},
   "outputs": [
    {
     "data": {
      "image/png": "[encoded data removed]",
      "text/plain": [
       "<Figure size 432x288 with 1 Axes>"
      ]
     },
     "metadata": {
      "needs_background": "light"
     },
     "output_type": "display_data"
    }
   ],
   "source": [
    "temp_histogram = spark_df.select('temp').rdd.flatMap(lambda x: x).histogram(20)\n",
    "\n",
    "# Loading the Computed Histogram into a Pandas Dataframe for plotting\n",
    "pd.DataFrame(\n",
    "    list(zip(*temp_histogram)), \n",
    "    columns=['bin', 'frequency']\n",
    ").set_index(\n",
    "    'bin'\n",
    ").plot(kind='bar');"
   ]
  },
  {
   "cell_type": "code",
   "execution_count": 47,
   "metadata": {},
   "outputs": [],
   "source": [
    "import numpy as np"
   ]
  },
  {
   "cell_type": "code",
   "execution_count": 53,
   "metadata": {},
   "outputs": [
    {
     "data": {
      "image/png": "[encoded data removed]",
      "text/plain": [
       "<Figure size 432x288 with 1 Axes>"
      ]
     },
     "metadata": {
      "needs_background": "light"
     },
     "output_type": "display_data"
    }
   ],
   "source": [
    "area_histogram = spark_df.select('area').rdd.flatMap(lambda x: x).histogram(20)\n",
    "\n",
    "# Loading the Computed Histogram into a Pandas Dataframe for plotting\n",
    "pd.DataFrame(\n",
    "    list(zip(np.array(area_histogram[0]).round(3), np.array(area_histogram[1]).round(3)) ), \n",
    "    columns=['area', 'frequency']\n",
    ").set_index(\n",
    "    'area'\n",
    ").plot(kind='bar');"
   ]
  },
  {
   "cell_type": "markdown",
   "metadata": {},
   "source": [
    "## Boolean Masking \n",
    "\n",
    "Boolean masking also works with PySpark DataFrames just like Pandas DataFrames, the only difference being that the `.filter()` method is used in PySpark. To try this out, let's compare the amount of fire in those areas with absolutely no rain to those areas that had rain."
   ]
  },
  {
   "cell_type": "code",
   "execution_count": 54,
   "metadata": {},
   "outputs": [],
   "source": [
    "no_rain = spark_df.filter(spark_df['rain'] == 0.0)\n",
    "some_rain = spark_df.filter(spark_df['rain'] > 0.0)"
   ]
  },
  {
   "cell_type": "markdown",
   "metadata": {},
   "source": [
    "Now, to perform calculations to find the mean of a column, we'll have to import functions from `pyspark.sql`. As always, to read more about them, check out the [documentation](https://spark.apache.org/docs/latest/api/python/pyspark.sql.html#module-pyspark.sql.functions)."
   ]
  },
  {
   "cell_type": "code",
   "execution_count": 55,
   "metadata": {},
   "outputs": [
    {
     "name": "stdout",
     "output_type": "stream",
     "text": [
      "+------------------+\n",
      "|         avg(area)|\n",
      "+------------------+\n",
      "|13.023693516699408|\n",
      "+------------------+\n",
      "\n",
      "no rain fire area:  None \n",
      "\n",
      "+---------+\n",
      "|avg(area)|\n",
      "+---------+\n",
      "|  1.62375|\n",
      "+---------+\n",
      "\n",
      "some rain fire area:  None \n",
      "\n"
     ]
    }
   ],
   "source": [
    "from pyspark.sql.functions import mean\n",
    "\n",
    "print('no rain fire area: ', no_rain.select(mean('area')).show(),'\\n')\n",
    "\n",
    "print('some rain fire area: ', some_rain.select(mean('area')).show(),'\\n')"
   ]
  },
  {
   "cell_type": "markdown",
   "metadata": {},
   "source": [
    "Yes there's definitely something there! Unsurprisingly, rain plays in a big factor in the spread of wildfire.\n",
    "\n",
    "Let's obtain data from only the summer months in Portugal (June, July, and August). We can also do the same for the winter months in Portugal (December, January, February)."
   ]
  },
  {
   "cell_type": "code",
   "execution_count": 56,
   "metadata": {},
   "outputs": [
    {
     "name": "stdout",
     "output_type": "stream",
     "text": [
      "+------------------+\n",
      "|         avg(area)|\n",
      "+------------------+\n",
      "|12.262317596566525|\n",
      "+------------------+\n",
      "\n",
      "summer months fire area None\n",
      "+-----------------+\n",
      "|        avg(area)|\n",
      "+-----------------+\n",
      "|7.918387096774193|\n",
      "+-----------------+\n",
      "\n",
      "winter months fire areas None\n"
     ]
    }
   ],
   "source": [
    "summer_months = spark_df.filter(spark_df['month'].isin(['jun','jul','aug']))\n",
    "winter_months = spark_df.filter(spark_df['month'].isin(['dec','jan','feb']))\n",
    "\n",
    "print('summer months fire area', summer_months.select(mean('area')).show())\n",
    "print('winter months fire areas', winter_months.select(mean('area')).show())"
   ]
  },
  {
   "cell_type": "markdown",
   "metadata": {},
   "source": [
    "## Machine Learning\n",
    "\n",
    "Now that we've performed some data manipulation and aggregation, lets get to the really cool stuff, machine learning! PySpark states that they've used scikit-learn as an inspiration for their implementation of a machine learning library. As a result, many of the methods and functionalities look similar, but there are some crucial distinctions. There are three main concepts found within the ML library:\n",
    "\n",
    "`Transformer`: An algorithm that transforms one PySpark DataFrame into another DataFrame. \n",
    "\n",
    "`Estimator`: An algorithm that can be fit onto a PySpark DataFrame that can then be used as a Transformer. \n",
    "\n",
    "`Pipeline`: A pipeline very similar to an `sklearn` pipeline that chains together different actions.\n",
    "\n",
    "The reasoning behind this separation of the fitting and transforming step is because Spark is lazily evaluated, so the 'fitting' of a model does not actually take place until the Transformation action is called. Let's examine what this actually looks like by performing a regression on the Forest Fire dataset. To start off with, we'll import the necessary libraries for our tasks."
   ]
  },
  {
   "cell_type": "code",
   "execution_count": 58,
   "metadata": {},
   "outputs": [],
   "source": [
    "from pyspark.ml.regression import RandomForestRegressor\n",
    "from pyspark.ml import feature\n",
    "from pyspark.ml.feature import StringIndexer, VectorAssembler, OneHotEncoder, OneHotEncoderModel"
   ]
  },
  {
   "cell_type": "markdown",
   "metadata": {},
   "source": [
    "Looking at our data, one can see that all the categories are numerical except for day and month. We saw some correlation between the month and area burned in a fire, so we will include that in our model. The day of the week, however, is highly unlikely to have any effect on fire, so we will drop it from the DataFrame."
   ]
  },
  {
   "cell_type": "code",
   "execution_count": 59,
   "metadata": {},
   "outputs": [
    {
     "data": {
      "text/plain": [
       "Row(X=7, Y=5, month='mar', FFMC=86.2, DMC=26.2, DC=94.3, ISI=5.1, temp=8.2, RH=51, wind=6.7, rain=0.0, area=0.0)"
      ]
     },
     "execution_count": 59,
     "metadata": {},
     "output_type": "execute_result"
    }
   ],
   "source": [
    "fire_df = spark_df.drop('day')\n",
    "fire_df.head()"
   ]
  },
  {
   "cell_type": "markdown",
   "metadata": {},
   "source": [
    "In order for us to run our model, we need to turn the months variable into a dummy variable. In `ml` this is a 2-step process that first requires turning the categorical variable into a numerical index (`StringIndexer`). Only after the variable is an integer can PySpark create dummy variable columns related to each category (`OneHotEncoderEstimator`). Your key parameters when using these `ml` estimators are: `inputCol` (the column you want to change) and `outputCol` (where you will store the changed column). Here it is in action: "
   ]
  },
  {
   "cell_type": "code",
   "execution_count": 60,
   "metadata": {},
   "outputs": [
    {
     "data": {
      "text/plain": [
       "Row(X=7, Y=5, month='mar', FFMC=86.2, DMC=26.2, DC=94.3, ISI=5.1, temp=8.2, RH=51, wind=6.7, rain=0.0, area=0.0, month_num=2.0)"
      ]
     },
     "execution_count": 60,
     "metadata": {},
     "output_type": "execute_result"
    }
   ],
   "source": [
    "si = StringIndexer(inputCol='month', outputCol='month_num')\n",
    "model = si.fit(fire_df)\n",
    "new_df = model.transform(fire_df)\n",
    "new_df.head()"
   ]
  },
  {
   "cell_type": "markdown",
   "metadata": {},
   "source": [
    "Note the small, but critical distinction between `sklearn`'s implementation of a transformer and PySpark's implementation. `sklearn` is more object oriented and Spark is more functional oriented."
   ]
  },
  {
   "cell_type": "code",
   "execution_count": 61,
   "metadata": {},
   "outputs": [
    {
     "data": {
      "text/plain": [
       "pyspark.ml.feature.StringIndexer"
      ]
     },
     "execution_count": 61,
     "metadata": {},
     "output_type": "execute_result"
    }
   ],
   "source": [
    "## this is an estimator (an untrained transformer)\n",
    "type(si)"
   ]
  },
  {
   "cell_type": "code",
   "execution_count": 62,
   "metadata": {},
   "outputs": [
    {
     "data": {
      "text/plain": [
       "pyspark.ml.feature.StringIndexerModel"
      ]
     },
     "execution_count": 62,
     "metadata": {},
     "output_type": "execute_result"
    }
   ],
   "source": [
    "## this is a transformer (a trained transformer)\n",
    "type(model)"
   ]
  },
  {
   "cell_type": "code",
   "execution_count": 63,
   "metadata": {},
   "outputs": [
    {
     "data": {
      "text/plain": [
       "['aug',\n",
       " 'sep',\n",
       " 'mar',\n",
       " 'jul',\n",
       " 'feb',\n",
       " 'jun',\n",
       " 'oct',\n",
       " 'apr',\n",
       " 'dec',\n",
       " 'jan',\n",
       " 'may',\n",
       " 'nov']"
      ]
     },
     "execution_count": 63,
     "metadata": {},
     "output_type": "execute_result"
    }
   ],
   "source": [
    "model.labels"
   ]
  },
  {
   "cell_type": "code",
   "execution_count": 64,
   "metadata": {},
   "outputs": [
    {
     "data": {
      "text/plain": [
       "[Row(X=7, Y=5, month='mar', FFMC=86.2, DMC=26.2, DC=94.3, ISI=5.1, temp=8.2, RH=51, wind=6.7, rain=0.0, area=0.0, month_num=2.0),\n",
       " Row(X=7, Y=4, month='oct', FFMC=90.6, DMC=35.4, DC=669.1, ISI=6.7, temp=18.0, RH=33, wind=0.9, rain=0.0, area=0.0, month_num=6.0),\n",
       " Row(X=7, Y=4, month='oct', FFMC=90.6, DMC=43.7, DC=686.9, ISI=6.7, temp=14.6, RH=33, wind=1.3, rain=0.0, area=0.0, month_num=6.0),\n",
       " Row(X=8, Y=6, month='mar', FFMC=91.7, DMC=33.3, DC=77.5, ISI=9.0, temp=8.3, RH=97, wind=4.0, rain=0.2, area=0.0, month_num=2.0)]"
      ]
     },
     "execution_count": 64,
     "metadata": {},
     "output_type": "execute_result"
    }
   ],
   "source": [
    "new_df.head(4)"
   ]
  },
  {
   "cell_type": "markdown",
   "metadata": {},
   "source": [
    "As you can see, we have created a new column called `'month_num'` that represents the month by a number. Now that we have performed this step, we can use Spark's version of `OneHotEncoder()` - `OneHotEncoderEstimator()`. Let's make sure we have an accurate representation of the months."
   ]
  },
  {
   "cell_type": "code",
   "execution_count": 65,
   "metadata": {},
   "outputs": [
    {
     "data": {
      "text/plain": [
       "[Row(month_num=8.0),\n",
       " Row(month_num=0.0),\n",
       " Row(month_num=7.0),\n",
       " Row(month_num=1.0),\n",
       " Row(month_num=4.0),\n",
       " Row(month_num=11.0),\n",
       " Row(month_num=3.0),\n",
       " Row(month_num=2.0),\n",
       " Row(month_num=10.0),\n",
       " Row(month_num=6.0),\n",
       " Row(month_num=5.0),\n",
       " Row(month_num=9.0)]"
      ]
     },
     "execution_count": 65,
     "metadata": {},
     "output_type": "execute_result"
    }
   ],
   "source": [
    "new_df.select('month_num').distinct().collect()"
   ]
  },
  {
   "cell_type": "code",
   "execution_count": 66,
   "metadata": {},
   "outputs": [
    {
     "data": {
      "text/plain": [
       "Row(X=7, Y=5, month='mar', FFMC=86.2, DMC=26.2, DC=94.3, ISI=5.1, temp=8.2, RH=51, wind=6.7, rain=0.0, area=0.0, month_num=2.0, month_vec=SparseVector(11, {2: 1.0}))"
      ]
     },
     "execution_count": 66,
     "metadata": {},
     "output_type": "execute_result"
    }
   ],
   "source": [
    "## fitting and transforming the OneHotEncoderEstimator\n",
    "ohe = feature.OneHotEncoder(inputCols=['month_num'], outputCols=['month_vec'], dropLast=True)\n",
    "one_hot_encoded = ohe.fit(new_df).transform(new_df)\n",
    "one_hot_encoded.head()"
   ]
  },
  {
   "cell_type": "markdown",
   "metadata": {},
   "source": [
    "Great, we now have a OneHotEncoded sparse vector in the `'month_vec'` column! Because Spark is optimized for big data, sparse vectors are used rather than entirely new columns for dummy variables because it is more space efficient. You can see in this first row of the DataFrame:  \n",
    "\n",
    "`month_vec=SparseVector(11, {2: 1.0})` this indicates that we have a sparse vector of size 11 (because of the parameter `dropLast = True` in `OneHotEncoderEstimator()`) and this particular data point is the 2nd index of our month labels (march, based off the labels in the `model` StringEstimator transformer).  \n",
    "\n",
    "The final requirement for all machine learning models in PySpark is to put all of the features of your model into one sparse vector. This is once again for efficiency sake. Here, we are doing that with the `VectorAssembler()` estimator."
   ]
  },
  {
   "cell_type": "code",
   "execution_count": 67,
   "metadata": {},
   "outputs": [],
   "source": [
    "features = ['X',\n",
    " 'Y',\n",
    " 'FFMC',\n",
    " 'DMC',\n",
    " 'DC',\n",
    " 'ISI',\n",
    " 'temp',\n",
    " 'RH',\n",
    " 'wind',\n",
    " 'rain',\n",
    " 'month_vec']\n",
    "\n",
    "target = 'area'\n",
    "\n",
    "vector = VectorAssembler(inputCols=features, outputCol='features')\n",
    "vectorized_df = vector.transform(one_hot_encoded)"
   ]
  },
  {
   "cell_type": "code",
   "execution_count": 68,
   "metadata": {},
   "outputs": [
    {
     "data": {
      "text/plain": [
       "Row(X=7, Y=5, month='mar', FFMC=86.2, DMC=26.2, DC=94.3, ISI=5.1, temp=8.2, RH=51, wind=6.7, rain=0.0, area=0.0, month_num=2.0, month_vec=SparseVector(11, {2: 1.0}), features=SparseVector(21, {0: 7.0, 1: 5.0, 2: 86.2, 3: 26.2, 4: 94.3, 5: 5.1, 6: 8.2, 7: 51.0, 8: 6.7, 12: 1.0}))"
      ]
     },
     "execution_count": 68,
     "metadata": {},
     "output_type": "execute_result"
    }
   ],
   "source": [
    "vectorized_df.head()"
   ]
  },
  {
   "cell_type": "markdown",
   "metadata": {},
   "source": [
    "Great! We now have our data in a format that seems acceptable for the last step. It's time for us to actually fit our model to data! Let's fit a Random Forest Regression model to our data. Although there are still a bunch of other features in the DataFrame, it doesn't matter for the machine learning model API. All that needs to be specified are the names of the features column and the label column. "
   ]
  },
  {
   "cell_type": "code",
   "execution_count": 69,
   "metadata": {},
   "outputs": [],
   "source": [
    "## instantiating and fitting the model\n",
    "rf_model = RandomForestRegressor(featuresCol='features', \n",
    "                                 labelCol='area', predictionCol='prediction').fit(vectorized_df)"
   ]
  },
  {
   "cell_type": "code",
   "execution_count": 71,
   "metadata": {},
   "outputs": [
    {
     "data": {
      "text/plain": [
       "SparseVector(21, {0: 0.0402, 1: 0.0792, 2: 0.1915, 3: 0.083, 4: 0.0626, 5: 0.0877, 6: 0.1008, 7: 0.2076, 8: 0.1266, 9: 0.0, 10: 0.0006, 11: 0.0088, 12: 0.0, 13: 0.0101, 14: 0.0001, 15: 0.0, 16: 0.0003, 17: 0.0003, 18: 0.0004, 20: 0.0001})"
      ]
     },
     "execution_count": 71,
     "metadata": {},
     "output_type": "execute_result"
    }
   ],
   "source": [
    "fi = rf_model.featureImportances\n",
    "fi"
   ]
  },
  {
   "cell_type": "code",
   "execution_count": 72,
   "metadata": {},
   "outputs": [
    {
     "data": {
      "text/plain": [
       "array([4.01645591e-02, 7.91615450e-02, 1.91545226e-01, 8.30360016e-02,\n",
       "       6.25686874e-02, 8.77335184e-02, 1.00797983e-01, 2.07603376e-01,\n",
       "       1.26648053e-01, 1.03204327e-05, 5.91104915e-04, 8.79509109e-03,\n",
       "       1.55806164e-05, 1.01463202e-02, 5.22575564e-05, 8.07672333e-06,\n",
       "       2.95801071e-04, 2.83186522e-04, 4.25840143e-04, 1.17471111e-04])"
      ]
     },
     "execution_count": 72,
     "metadata": {},
     "output_type": "execute_result"
    }
   ],
   "source": [
    "fi.values"
   ]
  },
  {
   "cell_type": "code",
   "execution_count": 74,
   "metadata": {},
   "outputs": [],
   "source": [
    "import matplotlib.pyplot as plt"
   ]
  },
  {
   "cell_type": "code",
   "execution_count": 84,
   "metadata": {},
   "outputs": [
    {
     "data": {
      "text/plain": [
       "['X',\n",
       " 'Y',\n",
       " 'FFMC',\n",
       " 'DMC',\n",
       " 'DC',\n",
       " 'ISI',\n",
       " 'temp',\n",
       " 'RH',\n",
       " 'wind',\n",
       " 'rain',\n",
       " 'aug',\n",
       " 'sep',\n",
       " 'mar',\n",
       " 'jul',\n",
       " 'feb',\n",
       " 'jun',\n",
       " 'oct',\n",
       " 'apr',\n",
       " 'dec',\n",
       " 'jan',\n",
       " 'may']"
      ]
     },
     "execution_count": 84,
     "metadata": {},
     "output_type": "execute_result"
    }
   ],
   "source": [
    "feats"
   ]
  },
  {
   "cell_type": "code",
   "execution_count": 78,
   "metadata": {},
   "outputs": [],
   "source": [
    "months = model.labels[:-1]\n",
    "feats = features[:-1] + months"
   ]
  },
  {
   "cell_type": "code",
   "execution_count": 81,
   "metadata": {},
   "outputs": [
    {
     "data": {
      "text/plain": [
       "21"
      ]
     },
     "execution_count": 81,
     "metadata": {},
     "output_type": "execute_result"
    }
   ],
   "source": [
    "len(feats)"
   ]
  },
  {
   "cell_type": "code",
   "execution_count": 83,
   "metadata": {},
   "outputs": [
    {
     "data": {
      "text/plain": [
       "20"
      ]
     },
     "execution_count": 83,
     "metadata": {},
     "output_type": "execute_result"
    }
   ],
   "source": [
    "len(fi.values)"
   ]
  },
  {
   "cell_type": "code",
   "execution_count": 86,
   "metadata": {},
   "outputs": [
    {
     "data": {
      "text/plain": [
       "<BarContainer object of 21 artists>"
      ]
     },
     "execution_count": 86,
     "metadata": {},
     "output_type": "execute_result"
    },
    {
     "data": {
      "image/png": "[encoded data removed]",
      "text/plain": [
       "<Figure size 432x288 with 1 Axes>"
      ]
     },
     "metadata": {
      "needs_background": "light"
     },
     "output_type": "display_data"
    }
   ],
   "source": [
    "plt.barh(feats, fi)"
   ]
  },
  {
   "cell_type": "code",
   "execution_count": null,
   "metadata": {},
   "outputs": [],
   "source": [
    "# interestingly, rain does not show up as very important on this chart. It is possible it's been generated wrong"
   ]
  },
  {
   "cell_type": "code",
   "execution_count": 88,
   "metadata": {},
   "outputs": [
    {
     "data": {
      "text/plain": [
       "[Row(area=0.0, prediction=7.280328878980681),\n",
       " Row(area=0.0, prediction=5.781804763878154),\n",
       " Row(area=0.0, prediction=6.507221852229412),\n",
       " Row(area=0.0, prediction=6.653435150269952),\n",
       " Row(area=0.0, prediction=6.193481304116105),\n",
       " Row(area=0.0, prediction=8.755514587244281),\n",
       " Row(area=0.0, prediction=6.805609020373389),\n",
       " Row(area=0.0, prediction=6.81881781760938),\n",
       " Row(area=0.0, prediction=7.175247475206646),\n",
       " Row(area=0.0, prediction=5.958641805945913)]"
      ]
     },
     "execution_count": 88,
     "metadata": {},
     "output_type": "execute_result"
    }
   ],
   "source": [
    "## generating predictions\n",
    "predictions = rf_model.transform(vectorized_df).select('area', 'prediction')\n",
    "predictions.head(10)"
   ]
  },
  {
   "cell_type": "markdown",
   "metadata": {},
   "source": [
    "Now we can evaluate how well the model performed using `RegressionEvaluator`."
   ]
  },
  {
   "cell_type": "code",
   "execution_count": 89,
   "metadata": {},
   "outputs": [],
   "source": [
    "from pyspark.ml.evaluation import RegressionEvaluator\n",
    "evaluator = RegressionEvaluator(predictionCol='prediction', labelCol='area')"
   ]
  },
  {
   "cell_type": "code",
   "execution_count": 90,
   "metadata": {},
   "outputs": [
    {
     "data": {
      "text/plain": [
       "0.7022071441377715"
      ]
     },
     "execution_count": 90,
     "metadata": {},
     "output_type": "execute_result"
    }
   ],
   "source": [
    "## evaluating r^2\n",
    "evaluator.evaluate(predictions,{evaluator.metricName: 'r2'})"
   ]
  },
  {
   "cell_type": "code",
   "execution_count": 91,
   "metadata": {},
   "outputs": [
    {
     "data": {
      "text/plain": [
       "12.902610711495765"
      ]
     },
     "execution_count": 91,
     "metadata": {},
     "output_type": "execute_result"
    }
   ],
   "source": [
    "## evaluating mean absolute error\n",
    "evaluator.evaluate(predictions,{evaluator.metricName: 'mae'})"
   ]
  },
  {
   "cell_type": "markdown",
   "metadata": {},
   "source": [
    "## Putting it all in a Pipeline\n",
    "\n",
    "We just performed a whole lot of transformations to our data. Let's take a look at all the estimators we used to create this model:\n",
    "\n",
    "* `StringIndexer()` \n",
    "* `OneHotEnconderEstimator()` \n",
    "* `VectorAssembler()` \n",
    "* `RandomForestRegressor()` \n",
    "\n",
    "Once we've fit our model in the Pipeline, we're then going to want to evaluate it to determine how well it performs. We can do this with:\n",
    "\n",
    "* `RegressionEvaluator()` \n",
    "\n",
    "We can streamline all of these transformations to make it much more efficient by chaining them together in a pipeline. The Pipeline object expects a list of the estimators prior set to the parameter `stages`."
   ]
  },
  {
   "cell_type": "code",
   "execution_count": 92,
   "metadata": {},
   "outputs": [],
   "source": [
    "# importing relevant libraries\n",
    "from pyspark.ml.tuning import ParamGridBuilder, TrainValidationSplit, CrossValidator\n",
    "from pyspark.ml import Pipeline"
   ]
  },
  {
   "cell_type": "code",
   "execution_count": 127,
   "metadata": {},
   "outputs": [
    {
     "data": {
      "text/plain": [
       "['X',\n",
       " 'Y',\n",
       " 'FFMC',\n",
       " 'DMC',\n",
       " 'DC',\n",
       " 'ISI',\n",
       " 'temp',\n",
       " 'RH',\n",
       " 'wind',\n",
       " 'rain',\n",
       " 'month_vec']"
      ]
     },
     "execution_count": 127,
     "metadata": {},
     "output_type": "execute_result"
    }
   ],
   "source": [
    "features"
   ]
  },
  {
   "cell_type": "code",
   "execution_count": 136,
   "metadata": {},
   "outputs": [],
   "source": [
    "## instantiating all necessary estimator objects\n",
    "\n",
    "string_indexer = StringIndexer(inputCol='month', outputCol='month_num', handleInvalid='keep'\n",
    "                              )\n",
    "one_hot_encoder = OneHotEncoder(inputCols=['month_num'], outputCols=['month_vec'], dropLast=True)\n",
    "vector_assember = VectorAssembler(inputCols=features, outputCol='features')\n",
    "random_forest = RandomForestRegressor(featuresCol='features', labelCol='area')\n",
    "stages = [string_indexer, one_hot_encoder, vector_assember, random_forest]\n",
    "\n",
    "# instantiating the pipeline with all them estimator objects\n",
    "pipeline = Pipeline(stages=stages)"
   ]
  },
  {
   "cell_type": "markdown",
   "metadata": {},
   "source": [
    "### Cross-validation \n",
    "\n",
    "You might have missed a critical step in the random forest regression above; we did not cross validate or perform a train/test split! Now we're going to fix that by performing cross-validation and also testing out multiple different combinations of parameters in PySpark's `GridSearch()` equivalent. To begin with, we will create a parameter grid that contains the different parameters we want to use in our model."
   ]
  },
  {
   "cell_type": "code",
   "execution_count": 137,
   "metadata": {},
   "outputs": [],
   "source": [
    "# creating parameter grid\n",
    "\n",
    "params = ParamGridBuilder().addGrid(random_forest.maxDepth, [5, 10, 15])\\\n",
    "          .addGrid(random_forest.numTrees, [20 ,50, 100])\\\n",
    "          .build()"
   ]
  },
  {
   "cell_type": "markdown",
   "metadata": {},
   "source": [
    "Let's take a look at the params variable we just built."
   ]
  },
  {
   "cell_type": "code",
   "execution_count": 138,
   "metadata": {},
   "outputs": [
    {
     "name": "stdout",
     "output_type": "stream",
     "text": [
      "total combinations of parameters:  9\n"
     ]
    },
    {
     "data": {
      "text/plain": [
       "{Param(parent='RandomForestRegressor_3f8d46ca1611', name='maxDepth', doc='Maximum depth of the tree. (>= 0) E.g., depth 0 means 1 leaf node; depth 1 means 1 internal node + 2 leaf nodes.'): 5,\n",
       " Param(parent='RandomForestRegressor_3f8d46ca1611', name='numTrees', doc='Number of trees to train (>= 1).'): 20}"
      ]
     },
     "execution_count": 138,
     "metadata": {},
     "output_type": "execute_result"
    }
   ],
   "source": [
    "print('total combinations of parameters: ', len(params))\n",
    "\n",
    "params[0]"
   ]
  },
  {
   "cell_type": "markdown",
   "metadata": {},
   "source": [
    "Now it's time to combine all the steps we've created to work in a single line of code with the `CrossValidator()` estimator."
   ]
  },
  {
   "cell_type": "code",
   "execution_count": 139,
   "metadata": {},
   "outputs": [],
   "source": [
    "## instantiating the evaluator by which we will measure our model's performance\n",
    "reg_evaluator = RegressionEvaluator(predictionCol='prediction', labelCol='area', metricName = 'mae')\n",
    "\n",
    "## instantiating crossvalidator estimator\n",
    "cv = CrossValidator(estimator=pipeline, estimatorParamMaps=params, evaluator=reg_evaluator, parallelism=4)"
   ]
  },
  {
   "cell_type": "code",
   "execution_count": 140,
   "metadata": {},
   "outputs": [],
   "source": [
    "## fitting crossvalidator\n",
    "cross_validated_model = cv.fit(fire_df)"
   ]
  },
  {
   "cell_type": "markdown",
   "metadata": {},
   "source": [
    "Now, let's see how well the model performed! Let's take a look at the average performance for each one of our 9 models. It looks like the optimal performance is an MAE around 23. Note that this is worse than our original model, but that's because our original model had substantial data leakage. We didn't do a train-test split!"
   ]
  },
  {
   "cell_type": "code",
   "execution_count": 141,
   "metadata": {
    "scrolled": true
   },
   "outputs": [
    {
     "data": {
      "text/plain": [
       "[22.45560157313931,\n",
       " 21.316517672368192,\n",
       " 21.955423849350918,\n",
       " 23.402879836502784,\n",
       " 22.46952673889089,\n",
       " 22.78401856849183,\n",
       " 23.509064614726675,\n",
       " 22.59160413877237,\n",
       " 22.861959442839265]"
      ]
     },
     "execution_count": 141,
     "metadata": {},
     "output_type": "execute_result"
    }
   ],
   "source": [
    "cross_validated_model.avgMetrics"
   ]
  },
  {
   "cell_type": "markdown",
   "metadata": {},
   "source": [
    "Now, let's take a look at the optimal parameters of our best performing model. The `cross_validated_model` variable is now saved as the best performing model from the grid search just performed. Let's look to see how well the predictions performed. As you can see, this dataset has a large number of areas of \"0.0\" burned. Perhaps, it would be better to investigate this problem as a classification task."
   ]
  },
  {
   "cell_type": "code",
   "execution_count": 142,
   "metadata": {},
   "outputs": [
    {
     "name": "stdout",
     "output_type": "stream",
     "text": [
      "+------------------+-------+\n",
      "|        prediction|   area|\n",
      "+------------------+-------+\n",
      "| 6.675377553238162|    0.0|\n",
      "| 5.520751244437058|    0.0|\n",
      "| 5.284643210716393|    0.0|\n",
      "| 7.294348637267464|    0.0|\n",
      "| 5.791393879869332|    0.0|\n",
      "| 9.567330372907044|    0.0|\n",
      "| 7.362614576468219|    0.0|\n",
      "| 6.680545329819764|    0.0|\n",
      "| 9.553465141383278|    0.0|\n",
      "|15.198201591312248|    0.0|\n",
      "| 6.823655524103516|    0.0|\n",
      "| 7.410481589902721|    0.0|\n",
      "| 7.172465294124433|    0.0|\n",
      "|  8.18358769260519|    0.0|\n",
      "|57.719915631790975|    0.0|\n",
      "| 6.022728699076385|    0.0|\n",
      "| 5.493307234662074|    0.0|\n",
      "| 7.513052009052809|    0.0|\n",
      "| 5.203463505452948|    0.0|\n",
      "| 6.132543078665264|    0.0|\n",
      "| 9.648638796109946|    0.0|\n",
      "| 4.583261828311799|    0.0|\n",
      "|  7.66479638164218|    0.0|\n",
      "| 7.322743754191061|    0.0|\n",
      "| 8.342317654270179|    0.0|\n",
      "| 6.407951338832293|    0.0|\n",
      "|7.9433393246697905|    0.0|\n",
      "| 7.196594810922658|    0.0|\n",
      "|10.081382320633677|    0.0|\n",
      "|12.448587864887168|    0.0|\n",
      "| 6.785755371491946|    0.0|\n",
      "| 7.004455839022527|    0.0|\n",
      "| 6.693100013702386|    0.0|\n",
      "|  5.81196557393829|    0.0|\n",
      "| 5.128098350071197|    0.0|\n",
      "|  5.74109273572233|    0.0|\n",
      "|36.259376821940435|    0.0|\n",
      "|4.9786148503935035|    0.0|\n",
      "| 6.659315904299629|    0.0|\n",
      "|   4.6849196372262|    0.0|\n",
      "|11.758133629451002|    0.0|\n",
      "| 5.330152571649138|    0.0|\n",
      "| 5.167516515972495|    0.0|\n",
      "|     6.97577108569|    0.0|\n",
      "|  6.01170246227505|    0.0|\n",
      "| 48.76936921546384|    0.0|\n",
      "| 7.564430175935796|    0.0|\n",
      "|5.2428712702911255|    0.0|\n",
      "| 4.226652177877981|    0.0|\n",
      "| 6.428465109919828|    0.0|\n",
      "| 9.030599185902204|    0.0|\n",
      "|4.8855618658515505|    0.0|\n",
      "| 5.127445588307379|    0.0|\n",
      "| 5.127445588307379|    0.0|\n",
      "| 5.517105239866288|    0.0|\n",
      "|11.119874399787111|    0.0|\n",
      "| 5.707285759279672|    0.0|\n",
      "| 4.607871930310472|    0.0|\n",
      "| 4.995043950182829|    0.0|\n",
      "| 5.806541401243778|    0.0|\n",
      "| 4.780746814832924|    0.0|\n",
      "| 4.250951180177735|    0.0|\n",
      "|10.961227304483526|    0.0|\n",
      "| 4.381344249195012|    0.0|\n",
      "| 4.950717871513041|    0.0|\n",
      "| 5.779505499138162|    0.0|\n",
      "|13.100933121663159|    0.0|\n",
      "| 9.986088511526216|    0.0|\n",
      "|10.635227048751636|    0.0|\n",
      "|  5.81390853644863|    0.0|\n",
      "| 4.175580745475788|    0.0|\n",
      "| 4.769430802229221|    0.0|\n",
      "| 5.259944775531055|    0.0|\n",
      "| 6.303698942474415|    0.0|\n",
      "| 7.931560851331632|    0.0|\n",
      "| 7.972743383036054|    0.0|\n",
      "| 9.950807094203498|    0.0|\n",
      "|  5.45008837988668|    0.0|\n",
      "| 9.360598604071988|    0.0|\n",
      "|  21.2386997662396|    0.0|\n",
      "| 8.964256836632181|    0.0|\n",
      "|  5.40153244595949|    0.0|\n",
      "| 4.271373256847936|    0.0|\n",
      "| 3.067645330304094|    0.0|\n",
      "| 6.945726574147042|    0.0|\n",
      "| 17.57622833290363|    0.0|\n",
      "| 7.581906356535851|    0.0|\n",
      "| 17.94800600083175|    0.0|\n",
      "|12.190589212426637|    0.0|\n",
      "| 5.867709707862016|    0.0|\n",
      "|  4.81723716207647|    0.0|\n",
      "| 7.587943297127351|    0.0|\n",
      "| 9.896539996323318|    0.0|\n",
      "| 17.65092908782386|    0.0|\n",
      "| 7.545003848802524|    0.0|\n",
      "| 5.603751039767234|    0.0|\n",
      "| 6.015052177172802|    0.0|\n",
      "| 4.679459828752318|    0.0|\n",
      "| 5.066315104311099|    0.0|\n",
      "|6.1026066456769215|    0.0|\n",
      "|6.1026066456769215|    0.0|\n",
      "| 4.947267184171615|    0.0|\n",
      "| 4.762791700326655|    0.0|\n",
      "| 9.109209744298163|    0.0|\n",
      "| 4.491790242353188|    0.0|\n",
      "| 4.951636710451802|    0.0|\n",
      "| 5.360066891402823|    0.0|\n",
      "| 4.697581967422643|    0.0|\n",
      "| 6.348682686537651|    0.0|\n",
      "| 5.532841992934829|    0.0|\n",
      "|  5.26048617255429|    0.0|\n",
      "| 5.394273135143936|    0.0|\n",
      "| 7.413127478509654|    0.0|\n",
      "|4.9503877101519045|    0.0|\n",
      "| 5.429977801993067|    0.0|\n",
      "| 5.876203734544512|    0.0|\n",
      "| 5.182807525175476|    0.0|\n",
      "| 5.876824328878931|    0.0|\n",
      "| 5.151046391179636|    0.0|\n",
      "|5.5554532660531235|    0.0|\n",
      "| 4.629412977016134|    0.0|\n",
      "| 5.987629454026356|    0.0|\n",
      "| 9.073370354227604|    0.0|\n",
      "|  5.29057678182185|    0.0|\n",
      "|5.5229529817247975|    0.0|\n",
      "| 4.248729755785534|    0.0|\n",
      "| 4.532046816415911|    0.0|\n",
      "|10.736754521550768|    0.0|\n",
      "| 8.637021171505525|    0.0|\n",
      "|4.7628067611920635|    0.0|\n",
      "| 6.028421787031415|    0.0|\n",
      "| 4.481912341117599|    0.0|\n",
      "| 4.733423634048271|    0.0|\n",
      "| 5.328582489166277|    0.0|\n",
      "| 4.472685865628086|    0.0|\n",
      "| 6.209894776723575|    0.0|\n",
      "| 8.596513526270932|    0.0|\n",
      "| 6.787465171267886|    0.0|\n",
      "|16.557149398600426|   0.36|\n",
      "| 11.76490430749481|   0.43|\n",
      "|  9.24347328319688|   0.47|\n",
      "| 5.384263322446735|   0.55|\n",
      "|15.947835842848765|   0.61|\n",
      "| 6.729793502356824|   0.71|\n",
      "| 5.063743593388934|   0.77|\n",
      "| 36.14538990085495|    0.9|\n",
      "| 5.011916041223162|   0.95|\n",
      "|10.147724488661853|   0.96|\n",
      "| 9.036152653155114|   1.07|\n",
      "| 21.95806545918713|   1.12|\n",
      "| 6.796236814321794|   1.19|\n",
      "|13.338514017648881|   1.36|\n",
      "| 7.134325864017516|   1.43|\n",
      "| 5.924406795379689|   1.46|\n",
      "| 19.74768707676412|   1.46|\n",
      "| 4.675992960618218|   1.56|\n",
      "|14.078291343538888|   1.61|\n",
      "| 4.866219811673286|   1.63|\n",
      "| 4.715706108445785|   1.64|\n",
      "|7.9433393246697905|   1.69|\n",
      "| 5.850323511070481|   1.75|\n",
      "| 8.281129859004396|    1.9|\n",
      "|7.5825393569479935|   1.94|\n",
      "| 17.21291496557931|   1.95|\n",
      "| 7.025012091325961|   2.01|\n",
      "| 4.857258403862568|   2.14|\n",
      "| 4.391796409942847|   2.29|\n",
      "| 6.691088080103072|   2.51|\n",
      "| 7.181789853659276|   2.53|\n",
      "| 8.975975364103515|   2.55|\n",
      "| 9.204385336905554|   2.57|\n",
      "| 8.803207235006115|   2.69|\n",
      "| 6.381938421005233|   2.74|\n",
      "| 8.430680258048413|   3.07|\n",
      "| 3.766652137758075|    3.5|\n",
      "|5.5909590490139855|   4.53|\n",
      "| 5.249742049545526|   4.61|\n",
      "| 4.694521431053541|   4.69|\n",
      "| 4.837922108093684|   4.88|\n",
      "| 6.325261132691055|   5.23|\n",
      "|11.452919102259573|   5.33|\n",
      "| 7.585049181592591|   5.44|\n",
      "| 4.476223286577982|   6.38|\n",
      "| 8.870940760427738|   6.83|\n",
      "| 9.237643916806467|   6.96|\n",
      "| 9.261665076059632|   7.04|\n",
      "|11.059798347251535|   7.19|\n",
      "| 9.752609861823355|    7.3|\n",
      "| 4.439423724574328|    7.4|\n",
      "| 6.107165699359318|   8.24|\n",
      "| 5.488724379741857|   8.31|\n",
      "| 7.234107964233285|   8.68|\n",
      "| 5.650803584776716|   8.71|\n",
      "|13.106803710153862|   9.41|\n",
      "| 5.650803584776716|  10.01|\n",
      "| 5.840674625097473|  10.02|\n",
      "| 5.249742049545526|  10.93|\n",
      "|10.279924185902205|  11.06|\n",
      "| 7.639884102708132|  11.24|\n",
      "|10.837749032103291|  11.32|\n",
      "|10.739758836532861|  11.53|\n",
      "| 4.543522051256388|   12.1|\n",
      "|5.7681005950324336|  13.05|\n",
      "|  8.83550298002885|   13.7|\n",
      "| 5.111930379972813|  13.99|\n",
      "|7.1915253488481445|  14.57|\n",
      "|14.383085596681445|  15.45|\n",
      "|  9.78895915991685|   17.2|\n",
      "| 7.697092362991872|  19.23|\n",
      "|11.098214168669399|  23.41|\n",
      "|  8.24784535091741|  24.23|\n",
      "| 10.38119669912664|   26.0|\n",
      "|7.4931046651910105|  26.13|\n",
      "| 8.417451125819884|  27.35|\n",
      "| 7.017675875520403|  28.66|\n",
      "| 7.017675875520403|  28.66|\n",
      "| 9.082090878469046|  29.48|\n",
      "|11.506095923051587|  30.32|\n",
      "|14.098888832131417|  31.72|\n",
      "| 6.868906447547589|  31.86|\n",
      "| 9.036525955339817|  32.07|\n",
      "| 7.738927991929963|  35.88|\n",
      "| 6.955157828861555|  36.85|\n",
      "| 45.76051909729904|  37.02|\n",
      "|  6.99489494850805|  37.71|\n",
      "|12.991358464200275|  48.55|\n",
      "| 9.453914242637445|  49.37|\n",
      "|17.099977987672588|   58.3|\n",
      "| 44.46320796244454|   64.1|\n",
      "|21.721766636535577|   71.3|\n",
      "| 45.80400352692942|  88.49|\n",
      "|46.187168354587776|  95.18|\n",
      "| 9.333098994569896| 103.39|\n",
      "| 47.36493472603361| 105.66|\n",
      "| 49.28149675535207| 154.88|\n",
      "| 44.51419824215016| 196.48|\n",
      "| 78.39367642483967| 200.94|\n",
      "| 69.19971880431197| 212.88|\n",
      "|  597.168983961343|1090.84|\n",
      "| 5.083406689395669|    0.0|\n",
      "| 4.586739902090158|    0.0|\n",
      "| 10.03635606060907|    0.0|\n",
      "| 6.466272033964531|  10.13|\n",
      "|11.210358584297445|    0.0|\n",
      "| 8.233160268847461|   2.87|\n",
      "| 9.591649192836146|   0.76|\n",
      "|  5.43633557109726|   0.09|\n",
      "| 5.515470958600965|   0.75|\n",
      "| 6.794365138827578|    0.0|\n",
      "| 6.056993448057529|   2.47|\n",
      "|14.025384844995278|   0.68|\n",
      "| 7.800847318154987|   0.24|\n",
      "| 6.365622362288442|   0.21|\n",
      "| 4.809456886902524|   1.52|\n",
      "| 9.048173266566035|  10.34|\n",
      "| 10.48294623566395|    0.0|\n",
      "| 9.370896282008054|   8.02|\n",
      "| 5.241357255852834|   0.68|\n",
      "| 4.159539126562623|    0.0|\n",
      "|6.9989795419278025|   1.38|\n",
      "| 6.465635395528463|   8.85|\n",
      "| 5.071830345290275|    3.3|\n",
      "| 4.329556656990284|   4.25|\n",
      "|7.0993732266266765|   1.56|\n",
      "|  9.75744456090813|   6.54|\n",
      "| 8.209208682880572|   0.79|\n",
      "| 7.120075949670946|   0.17|\n",
      "| 4.741105854188662|    0.0|\n",
      "| 4.823986406121182|    0.0|\n",
      "|4.6891247336920845|    4.4|\n",
      "|  8.82936847534637|   0.52|\n",
      "| 9.617283016491273|   9.27|\n",
      "| 4.676871937817715|   3.09|\n",
      "| 8.942472705808244|   8.98|\n",
      "| 9.483000324317924|  11.19|\n",
      "| 5.949092711391811|   5.38|\n",
      "|11.585729065135208|  17.85|\n",
      "|10.480284953130376|  10.73|\n",
      "|11.585729065135208|  22.03|\n",
      "|11.585729065135208|   9.77|\n",
      "|    6.164425465015|   9.27|\n",
      "|11.455044416750022|  24.77|\n",
      "| 5.738924187273482|    0.0|\n",
      "|4.7124854630635165|    1.1|\n",
      "| 6.427262687748654|  24.24|\n",
      "| 6.762113513872663|    0.0|\n",
      "|16.958838424515143|    0.0|\n",
      "|   8.5673914361685|    0.0|\n",
      "| 7.154768352916315|    0.0|\n",
      "| 9.219171613622807|    0.0|\n",
      "| 6.716637986742304|    0.0|\n",
      "| 13.31524854842507|    8.0|\n",
      "|10.595003770486965|   2.64|\n",
      "| 48.55274841727549|  86.45|\n",
      "|11.828821404323298|   6.57|\n",
      "| 7.830030950559811|    0.0|\n",
      "| 4.626477356752701|    0.9|\n",
      "| 6.977011302938009|    0.0|\n",
      "|13.799281676825856|    0.0|\n",
      "| 4.900203027237086|    0.0|\n",
      "+------------------+-------+\n",
      "only showing top 300 rows\n",
      "\n"
     ]
    }
   ],
   "source": [
    "predictions = cross_validated_model.transform(spark_df)\n",
    "predictions.select('prediction', 'area').show(300)"
   ]
  },
  {
   "cell_type": "markdown",
   "metadata": {},
   "source": [
    "Now let's go ahead and take a look at the feature importances of our random forest model. In order to do this, we need to unroll our pipeline to access the random forest model. Let's start by first checking out the `.bestModel` attribute of our `cross_validated_model`. "
   ]
  },
  {
   "cell_type": "code",
   "execution_count": 143,
   "metadata": {
    "slideshow": {
     "slide_type": "slide"
    }
   },
   "outputs": [
    {
     "data": {
      "text/plain": [
       "pyspark.ml.pipeline.PipelineModel"
      ]
     },
     "execution_count": 143,
     "metadata": {},
     "output_type": "execute_result"
    }
   ],
   "source": [
    "type(cross_validated_model.bestModel)"
   ]
  },
  {
   "cell_type": "markdown",
   "metadata": {},
   "source": [
    "`ml` is treating the entire pipeline as the best performing model, so we need to go deeper into the pipeline to access the random forest model within it. Previously, we put the random forest model as the final \"stage\" in the stages variable list. Let's look at the `.stages` attribute of the `.bestModel`."
   ]
  },
  {
   "cell_type": "code",
   "execution_count": 144,
   "metadata": {},
   "outputs": [
    {
     "data": {
      "text/plain": [
       "[StringIndexerModel: uid=StringIndexer_80f080ee902a, handleInvalid=keep,\n",
       " OneHotEncoderModel: uid=OneHotEncoder_fa0d19058f13, dropLast=true, handleInvalid=error, numInputCols=1, numOutputCols=1,\n",
       " VectorAssembler_61612d8db64b,\n",
       " RandomForestRegressionModel: uid=RandomForestRegressor_3f8d46ca1611, numTrees=50, numFeatures=22]"
      ]
     },
     "execution_count": 144,
     "metadata": {},
     "output_type": "execute_result"
    }
   ],
   "source": [
    "cross_validated_model.bestModel.stages"
   ]
  },
  {
   "cell_type": "markdown",
   "metadata": {},
   "source": [
    "Perfect! There's the RandomForestRegressionModel, represented by the last item in the stages list. Now, we should be able to access all the attributes of the random forest regressor."
   ]
  },
  {
   "cell_type": "code",
   "execution_count": 145,
   "metadata": {},
   "outputs": [],
   "source": [
    "optimal_rf_model = cross_validated_model.bestModel.stages[3]"
   ]
  },
  {
   "cell_type": "code",
   "execution_count": 146,
   "metadata": {},
   "outputs": [
    {
     "data": {
      "text/plain": [
       "SparseVector(22, {0: 0.0988, 1: 0.0958, 2: 0.0791, 3: 0.1522, 4: 0.1009, 5: 0.0511, 6: 0.1363, 7: 0.1035, 8: 0.1233, 9: 0.0, 10: 0.0065, 11: 0.0404, 13: 0.0068, 14: 0.0002, 15: 0.0033, 16: 0.0001, 17: 0.0004, 18: 0.0001, 20: 0.0011})"
      ]
     },
     "execution_count": 146,
     "metadata": {},
     "output_type": "execute_result"
    }
   ],
   "source": [
    "optimal_rf_model.featureImportances"
   ]
  },
  {
   "cell_type": "code",
   "execution_count": 147,
   "metadata": {},
   "outputs": [
    {
     "data": {
      "text/plain": [
       "['aug',\n",
       " 'sep',\n",
       " 'mar',\n",
       " 'jul',\n",
       " 'feb',\n",
       " 'jun',\n",
       " 'oct',\n",
       " 'apr',\n",
       " 'dec',\n",
       " 'jan',\n",
       " 'may',\n",
       " 'nov']"
      ]
     },
     "execution_count": 147,
     "metadata": {},
     "output_type": "execute_result"
    }
   ],
   "source": [
    "lbls = cross_validated_model.bestModel.stages[0].labels\n",
    "lbls"
   ]
  },
  {
   "cell_type": "code",
   "execution_count": 148,
   "metadata": {},
   "outputs": [
    {
     "data": {
      "text/plain": [
       "21"
      ]
     },
     "execution_count": 148,
     "metadata": {},
     "output_type": "execute_result"
    }
   ],
   "source": [
    "feats = features[:-1] + lbls[:-1]\n",
    "len(feats)"
   ]
  },
  {
   "cell_type": "code",
   "execution_count": 149,
   "metadata": {},
   "outputs": [
    {
     "data": {
      "text/plain": [
       "<BarContainer object of 22 artists>"
      ]
     },
     "execution_count": 149,
     "metadata": {},
     "output_type": "execute_result"
    },
    {
     "data": {
      "image/png": "[encoded data removed]",
      "text/plain": [
       "<Figure size 432x288 with 1 Axes>"
      ]
     },
     "metadata": {
      "needs_background": "light"
     },
     "output_type": "display_data"
    }
   ],
   "source": [
    "plt.barh(feats + ['extra'], optimal_rf_model.featureImportances)"
   ]
  },
  {
   "cell_type": "code",
   "execution_count": 150,
   "metadata": {},
   "outputs": [
    {
     "data": {
      "text/plain": [
       "50"
      ]
     },
     "execution_count": 150,
     "metadata": {},
     "output_type": "execute_result"
    }
   ],
   "source": [
    "optimal_rf_model.getNumTrees"
   ]
  },
  {
   "cell_type": "markdown",
   "metadata": {},
   "source": [
    "## Summary\n",
    "\n",
    "In this lesson, you learned about PySpark's DataFrames, machine learning models, and pipelines. With the use of a pipeline, you can train a huge number of models simultaneously, saving you a substantial amount of time and effort. Up next, you will have a chance to build a PySpark machine learning pipeline of your own with a classification problem!"
   ]
  }
 ],
 "metadata": {
  "kernelspec": {
   "display_name": "Python 3",
   "language": "python",
   "name": "python3"
  },
  "language_info": {
   "codemirror_mode": {
    "name": "ipython",
    "version": 3
   },
   "file_extension": ".py",
   "mimetype": "text/x-python",
   "name": "python",
   "nbconvert_exporter": "python",
   "pygments_lexer": "ipython3",
   "version": "3.8.6"
  }
 },
 "nbformat": 4,
 "nbformat_minor": 2
}
